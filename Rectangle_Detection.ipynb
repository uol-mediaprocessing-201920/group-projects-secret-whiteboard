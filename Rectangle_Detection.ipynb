{
  "nbformat": 4,
  "nbformat_minor": 0,
  "metadata": {
    "colab": {
      "name": "Rectangle Detection.ipynb",
      "provenance": [],
      "collapsed_sections": [],
      "include_colab_link": true
    },
    "kernelspec": {
      "name": "python3",
      "display_name": "Python 3"
    }
  },
  "cells": [
    {
      "cell_type": "markdown",
      "metadata": {
        "id": "view-in-github",
        "colab_type": "text"
      },
      "source": [
        "<a href=\"https://colab.research.google.com/github/uol-mediaprocessing/group-projects-secret-whiteboard/blob/master/Rectangle_Detection.ipynb\" target=\"_parent\"><img src=\"https://colab.research.google.com/assets/colab-badge.svg\" alt=\"Open In Colab\"/></a>"
      ]
    },
    {
      "cell_type": "code",
      "metadata": {
        "id": "chZ4l8WsVVOR",
        "colab_type": "code",
        "outputId": "fed67dea-a260-40ec-abe4-4d383c9ff049",
        "colab": {
          "base_uri": "https://localhost:8080/",
          "height": 54
        }
      },
      "source": [
        "!pip install opencv-python==4.1.1.26\n",
        "import cv2 as cv\n",
        "import numpy as np\n",
        "from matplotlib import pyplot as plt\n",
        "from skimage import io"
      ],
      "execution_count": 205,
      "outputs": [
        {
          "output_type": "stream",
          "text": [
            "Requirement already satisfied: opencv-python==4.1.1.26 in /usr/local/lib/python3.6/dist-packages (4.1.1.26)\n",
            "Requirement already satisfied: numpy>=1.11.3 in /usr/local/lib/python3.6/dist-packages (from opencv-python==4.1.1.26) (1.17.4)\n"
          ],
          "name": "stdout"
        }
      ]
    },
    {
      "cell_type": "code",
      "metadata": {
        "id": "wV8Yq-qRVrLV",
        "colab_type": "code",
        "outputId": "ec4ec27d-9e5f-40df-db1a-c1e808a49e5c",
        "colab": {
          "base_uri": "https://localhost:8080/",
          "height": 279
        }
      },
      "source": [
        "img_read = io.imread(\"https://raw.githubusercontent.com/uol-mediaprocessing/group-projects-secret-whiteboard/master/img/samples/sample3.jpg\")\n",
        "img = cv.cvtColor(img_read, cv.COLOR_BGR2GRAY)\n",
        "img_color = cv.cvtColor(img_read, cv.COLOR_BGR2RGB)\n",
        "plt.imshow(img, cmap=\"gray\")\n"
      ],
      "execution_count": 206,
      "outputs": [
        {
          "output_type": "execute_result",
          "data": {
            "text/plain": [
              "<matplotlib.image.AxesImage at 0x7fabe7a83978>"
            ]
          },
          "metadata": {
            "tags": []
          },
          "execution_count": 206
        },
        {
          "output_type": "display_data",
          "data": {
            "image/png": "[encoded data removed]",
            "text/plain": [
              "<Figure size 432x288 with 1 Axes>"
            ]
          },
          "metadata": {
            "tags": []
          }
        }
      ]
    },
    {
      "cell_type": "code",
      "metadata": {
        "id": "jlnsVxWlVtWC",
        "colab_type": "code",
        "outputId": "56ddb630-51c2-4737-a282-8fbc4fb3c407",
        "colab": {
          "base_uri": "https://localhost:8080/",
          "height": 279
        }
      },
      "source": [
        "#img2 = cv.GaussianBlur(img,(5,5),0)\n",
        "#img3 = cv.adaptiveThreshold(img2, 255, cv.ADAPTIVE_THRESH_GAUSSIAN_C, cv.THRESH_BINARY_INV, 5, 8)\n",
        "#plt.imshow(img3, cmap=\"gray\")\n",
        "img = cv.bitwise_not(img)\n",
        "plt.imshow(img, cmap=\"gray\")"
      ],
      "execution_count": 207,
      "outputs": [
        {
          "output_type": "execute_result",
          "data": {
            "text/plain": [
              "<matplotlib.image.AxesImage at 0x7fabe7a6a668>"
            ]
          },
          "metadata": {
            "tags": []
          },
          "execution_count": 207
        },
        {
          "output_type": "display_data",
          "data": {
            "image/png": "[encoded data removed]",
            "text/plain": [
              "<Figure size 432x288 with 1 Axes>"
            ]
          },
          "metadata": {
            "tags": []
          }
        }
      ]
    },
    {
      "cell_type": "code",
      "metadata": {
        "id": "sgLqckIzVxHY",
        "colab_type": "code",
        "outputId": "7b29ba26-d0b8-4dfb-83ed-0fd9e11bb400",
        "colab": {
          "base_uri": "https://localhost:8080/",
          "height": 279
        }
      },
      "source": [
        "contours, hierarchy = cv.findContours(img, cv.RETR_TREE, cv.CHAIN_APPROX_SIMPLE)\n",
        "cv.drawContours(img_color, contours, -1, (255,0,0), 10)\n",
        "plt.imshow(img_color)"
      ],
      "execution_count": 208,
      "outputs": [
        {
          "output_type": "execute_result",
          "data": {
            "text/plain": [
              "<matplotlib.image.AxesImage at 0x7fabe79d1b00>"
            ]
          },
          "metadata": {
            "tags": []
          },
          "execution_count": 208
        },
        {
          "output_type": "display_data",
          "data": {
            "image/png": "[encoded data removed]",
            "text/plain": [
              "<Figure size 432x288 with 1 Axes>"
            ]
          },
          "metadata": {
            "tags": []
          }
        }
      ]
    },
    {
      "cell_type": "code",
      "metadata": {
        "id": "GgbdgT5pZYx_",
        "colab_type": "code",
        "outputId": "79804cd5-2689-4dcb-fbe1-b16abcf35f18",
        "colab": {
          "base_uri": "https://localhost:8080/",
          "height": 390
        }
      },
      "source": [
        "npContours = np.array(contours)\n",
        "#for i in contours:\n",
        "i = 0;\n",
        "while i < len(contours):\n",
        "  approx = cv.approxPolyDP(npContours[i], cv.arcLength(npContours[i], True)*0.02, True)\n",
        "  i+=1\n",
        "  if len(approx) == 4 and abs(cv.contourArea(approx)) > 1000 and cv.isContourConvex(approx):\n",
        "    print(approx)\n",
        "    len(approx)\n",
        "    cv.drawContours(img_color, approx, -1, (0,255,0), 20)\n",
        "    plt.imshow(img_color)\n"
      ],
      "execution_count": 209,
      "outputs": [
        {
          "output_type": "stream",
          "text": [
            "[[[  4  30]]\n",
            "\n",
            " [[ 57 356]]\n",
            "\n",
            " [[529 311]]\n",
            "\n",
            " [[583  42]]]\n"
          ],
          "name": "stdout"
        },
        {
          "output_type": "display_data",
          "data": {
            "image/png": "[encoded data removed]",
            "text/plain": [
              "<Figure size 432x288 with 1 Axes>"
            ]
          },
          "metadata": {
            "tags": []
          }
        }
      ]
    },
    {
      "cell_type": "code",
      "metadata": {
        "id": "NTuoX8J7wr7x",
        "colab_type": "code",
        "colab": {
          "base_uri": "https://localhost:8080/",
          "height": 237
        },
        "outputId": "ebe4ec2e-c7af-4224-dd41-18fa5d87d2bd"
      },
      "source": [
        "rows,cols,ch = img_color.shape\n",
        "\n",
        "pts2 = np.float32([approx[0], approx[2], approx[1], approx[3]])\n",
        "pts1 = np.float32([[10,10],[600,10], [10,300],[600, 300]])\n",
        "M = cv.getPerspectiveTransform(pts1,pts2)\n",
        "dst = cv.warpPerspective(img_color,M,(600,300))\n",
        "plt.imshow(dst)"
      ],
      "execution_count": 222,
      "outputs": [
        {
          "output_type": "execute_result",
          "data": {
            "text/plain": [
              "<matplotlib.image.AxesImage at 0x7fabe7604860>"
            ]
          },
          "metadata": {
            "tags": []
          },
          "execution_count": 222
        },
        {
          "output_type": "display_data",
          "data": {
            "image/png": "[encoded data removed]",
            "text/plain": [
              "<Figure size 432x288 with 1 Axes>"
            ]
          },
          "metadata": {
            "tags": []
          }
        }
      ]
    }
  ]
}