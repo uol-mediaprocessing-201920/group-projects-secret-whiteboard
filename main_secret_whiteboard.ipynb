{
  "nbformat": 4,
  "nbformat_minor": 0,
  "metadata": {
    "colab": {
      "name": "Copy of Arbeitskopie von main_secret_whiteboard",
      "provenance": [],
      "collapsed_sections": []
    },
    "kernelspec": {
      "name": "python3",
      "display_name": "Python 3"
    }
  },
  "cells": [
    {
      "cell_type": "markdown",
      "metadata": {
        "id": "QYhVqilpku5Q",
        "colab_type": "text"
      },
      "source": [
        "# Secret Whiteboard\n",
        "\n",
        "![Header Picture](https://i.imgur.com/Yw6ynEQ.png)"
      ]
    },
    {
      "cell_type": "markdown",
      "metadata": {
        "id": "WhJvWLkj4Z8y",
        "colab_type": "text"
      },
      "source": [
        "## Project Milestones\n",
        "\n",
        "1. Find a way to detect edges in a digital image\n",
        "2. Implement pattern detection (\"frame\" containing the secret text)\n",
        "3. Image manipulation\n",
        "4. Extend the functionality\n",
        "    1. Recognize hand-drawn pictures\n",
        "    2. Support full video streams\n",
        "    3. OCR (character recognition)\n",
        "    \n",
        "## Use cases\n",
        "\n",
        "- Privacy in real-life video streaming\n",
        "- Implementation as a standard in video apps"
      ]
    }
  ]
}