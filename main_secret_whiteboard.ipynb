{
  "nbformat": 4,
  "nbformat_minor": 0,
  "metadata": {
    "colab": {
      "name": "Copy of Arbeitskopie von main_secret_whiteboard",
      "provenance": [],
      "collapsed_sections": []
    },
    "kernelspec": {
      "name": "python3",
      "display_name": "Python 3"
    }
  },
  "cells": [
    {
      "cell_type": "markdown",
      "metadata": {
        "id": "QYhVqilpku5Q",
        "colab_type": "text"
      },
      "source": [
        "# Secret Whiteboard\n",
        "\n",
        "![Header Picture](https://i.imgur.com/Yw6ynEQ.png)"
      ]
    },
    {
      "cell_type": "markdown",
      "metadata": {
        "id": "WhJvWLkj4Z8y",
        "colab_type": "text"
      },
      "source": [
        "## Members\n",
        "\n",
        "Fenno Boomgaarden (Fach-Bachelor Informatik)\n",
        "\n",
        "Hauke Redemann (Fach-Bachelor Informatik)\n",
        "\n",
        "Keno Rott (Fach-Bachelor Informatik)\n",
        "\n",
        "## Project Milestones\n",
        "\n",
        "1. Find a way to detect edges in a digital image\n",
        "2. Implement pattern detection (\"frame\" containing the secret text)\n",
        "3. Image manipulation\n",
        "4. Extend the functionality\n",
        "    1. Recognize hand-drawn pictures\n",
        "    2. Support full video streams\n",
        "    3. OCR (character recognition)\n",
        "    \n",
        "## Use cases\n",
        "\n",
        "### Privacy in real-life video streaming\n",
        "\n",
        "- In common screen-capturing softwares like OBS it is possible to select which windows with non-sensitive information are captured.\n",
        "\n",
        "- Streaming in real-life **has no mechanisms** like that.\n",
        "\n",
        "- The only option to protect the personal information of the streamer and/or others is **image processing**.\n",
        "\n",
        "- Hide sensitive information while streaming on platforms like YouTube and Twitch.\n",
        "\n",
        "For example a streamer shows his/her appartment to his/her viewers and (s)he has some sensitive information on the kitchen fridge (s)he wants to hide.\n",
        "\n",
        "\n",
        "### Implementation as a standard in camera apps\n",
        "\n",
        "- A standard has already been established when it comes to\n",
        "shutter sounds.\n",
        "\n",
        "- Most camera apps already disallow disabling the shutter sound to protect others from being captured without permission.\n",
        "\n",
        "- Establish a new standard to protect sensitive data on digital images.\n",
        "\n",
        "- A special pattern around objects/text hides parts of the image."
      ]
    }
  ]
}